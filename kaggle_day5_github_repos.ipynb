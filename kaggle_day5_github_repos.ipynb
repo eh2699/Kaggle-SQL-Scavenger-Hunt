{
  "cells": [
    {
      "metadata": {
        "_cell_guid": "fcc8acd0-5147-4a66-80f4-2a0574d02ff2",
        "_uuid": "b2ccd57ede364d2004d62313c329a2c07f2eb547",
        "trusted": true
      },
      "cell_type": "code",
      "source": "# setup\nimport bq_helper\n\ngithub = bq_helper.BigQueryHelper(active_project='bigquery-public-data',\n                                 dataset_name='github_repos')\n# explore tables\ngithub.list_tables()",
      "execution_count": 1,
      "outputs": [
        {
          "output_type": "execute_result",
          "execution_count": 1,
          "data": {
            "text/plain": "['commits',\n 'contents',\n 'files',\n 'languages',\n 'licenses',\n 'sample_commits',\n 'sample_contents',\n 'sample_files',\n 'sample_repos']"
          },
          "metadata": {}
        }
      ]
    },
    {
      "metadata": {
        "_cell_guid": "769fb0aa-0fdb-4b13-9091-46b044393f5e",
        "_uuid": "cdab75957445ebfe212fd137e06f32f032d0cc3e"
      },
      "cell_type": "markdown",
      "source": "**Question**\n1. How many commits have been made in repos written in the Python programming language?"
    },
    {
      "metadata": {
        "_cell_guid": "d2aa9f40-4946-43f4-ac65-9088625e52b3",
        "_uuid": "6f1621534b49a560c46ead3d6fe5902b329761d9",
        "trusted": true
      },
      "cell_type": "code",
      "source": "# total Python commits\nquery1 = '''SELECT COUNT(*) AS python_commits\n        FROM `bigquery-public-data.github_repos.sample_files` AS f\n        INNER JOIN `bigquery-public-data.github_repos.sample_commits` AS c ON c.repo_name = f.repo_name\n        WHERE path LIKE '%.py'\n        '''\ngithub.query_to_pandas_safe(query1, max_gb_scanned=10)",
      "execution_count": 2,
      "outputs": [
        {
          "output_type": "execute_result",
          "execution_count": 2,
          "data": {
            "text/plain": "   python_commits\n0        31695737",
            "text/html": "<div>\n<style scoped>\n    .dataframe tbody tr th:only-of-type {\n        vertical-align: middle;\n    }\n\n    .dataframe tbody tr th {\n        vertical-align: top;\n    }\n\n    .dataframe thead th {\n        text-align: right;\n    }\n</style>\n<table border=\"1\" class=\"dataframe\">\n  <thead>\n    <tr style=\"text-align: right;\">\n      <th></th>\n      <th>python_commits</th>\n    </tr>\n  </thead>\n  <tbody>\n    <tr>\n      <th>0</th>\n      <td>31695737</td>\n    </tr>\n  </tbody>\n</table>\n</div>"
          },
          "metadata": {}
        }
      ]
    },
    {
      "metadata": {
        "_cell_guid": "813e7ed5-dcb6-4b92-82b8-deb78ed7d425",
        "_uuid": "8420d8d52f94053fddaa9a5982d5315aa2f7694f"
      },
      "cell_type": "markdown",
      "source": "According to the dataset, there were 31,695,737 commits made in Python. I thought it'd also be interesting to see the breakdown of these commits based on `repo_name`."
    },
    {
      "metadata": {
        "_cell_guid": "9220fdfc-2c01-4d01-93b1-d6a66998088d",
        "_uuid": "3dcae7d7ed5a5ae5427b9e4ea167f9854cfbbee9",
        "trusted": true
      },
      "cell_type": "code",
      "source": "# breakdown of python commits based on repo\nquery2 = '''SELECT c.repo_name, COUNT(*) AS commits\n        FROM `bigquery-public-data.github_repos.sample_files` AS f\n        INNER JOIN `bigquery-public-data.github_repos.sample_commits` AS c ON c.repo_name = f.repo_name\n        WHERE path LIKE '%.py'\n        GROUP BY 1\n        ORDER BY 2 DESC\n        '''\nresult2= github.query_to_pandas_safe(query2, max_gb_scanned=10)\nresult2",
      "execution_count": 3,
      "outputs": [
        {
          "output_type": "execute_result",
          "execution_count": 3,
          "data": {
            "text/plain": "               repo_name   commits\n0         torvalds/linux  23501556\n1  tensorflow/tensorflow   4128858\n2            apple/swift   4044664\n3         facebook/react     13750\n4       Microsoft/vscode      6909",
            "text/html": "<div>\n<style scoped>\n    .dataframe tbody tr th:only-of-type {\n        vertical-align: middle;\n    }\n\n    .dataframe tbody tr th {\n        vertical-align: top;\n    }\n\n    .dataframe thead th {\n        text-align: right;\n    }\n</style>\n<table border=\"1\" class=\"dataframe\">\n  <thead>\n    <tr style=\"text-align: right;\">\n      <th></th>\n      <th>repo_name</th>\n      <th>commits</th>\n    </tr>\n  </thead>\n  <tbody>\n    <tr>\n      <th>0</th>\n      <td>torvalds/linux</td>\n      <td>23501556</td>\n    </tr>\n    <tr>\n      <th>1</th>\n      <td>tensorflow/tensorflow</td>\n      <td>4128858</td>\n    </tr>\n    <tr>\n      <th>2</th>\n      <td>apple/swift</td>\n      <td>4044664</td>\n    </tr>\n    <tr>\n      <th>3</th>\n      <td>facebook/react</td>\n      <td>13750</td>\n    </tr>\n    <tr>\n      <th>4</th>\n      <td>Microsoft/vscode</td>\n      <td>6909</td>\n    </tr>\n  </tbody>\n</table>\n</div>"
          },
          "metadata": {}
        }
      ]
    },
    {
      "metadata": {
        "_cell_guid": "732aa406-b7f7-4b12-85c5-64813ccfdea7",
        "_uuid": "dacda3f87251d1417db0e1b46b885bcc6c782fdb"
      },
      "cell_type": "markdown",
      "source": "I would like to try visualizing the results of this breakdown, but didn't have much success with bar plots or pie charts since the difference between highest-lowest was so great. The lowest values were barely visible in the resulting graphs. Please feel free to suggest alternatives for visualizing this! "
    }
  ],
  "metadata": {
    "language_info": {
      "name": "python",
      "version": "3.6.4",
      "mimetype": "text/x-python",
      "codemirror_mode": {
        "name": "ipython",
        "version": 3
      },
      "pygments_lexer": "ipython3",
      "nbconvert_exporter": "python",
      "file_extension": ".py"
    },
    "kernelspec": {
      "display_name": "Python 3",
      "language": "python",
      "name": "python3"
    }
  },
  "nbformat": 4,
  "nbformat_minor": 1
}
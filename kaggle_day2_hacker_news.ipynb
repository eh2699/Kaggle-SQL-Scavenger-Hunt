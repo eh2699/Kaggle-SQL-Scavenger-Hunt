{
  "cells": [
    {
      "metadata": {
        "_uuid": "a2cba1ff13fe87c42a24be343dc76701f2918068",
        "_cell_guid": "c939e430-0730-4c6c-a01a-b0c281bdcd25",
        "trusted": true
      },
      "cell_type": "code",
      "source": "# setup\nimport bq_helper\n\nhacker_news = bq_helper.BigQueryHelper(active_project='bigquery-public-data',\n                                      dataset_name='hacker_news')\n# explore tables\nhacker_news.list_tables()",
      "execution_count": 1,
      "outputs": [
        {
          "output_type": "execute_result",
          "execution_count": 1,
          "data": {
            "text/plain": "['comments', 'full', 'full_201510', 'stories']"
          },
          "metadata": {}
        }
      ]
    },
    {
      "metadata": {
        "_uuid": "9b330deb52e52c03ed7c41c31149da2e9f7922ba",
        "_cell_guid": "31680b67-4232-426f-96af-e44bae86aacc",
        "trusted": true
      },
      "cell_type": "code",
      "source": "# explore table 'full'\nhacker_news.head('full')",
      "execution_count": 2,
      "outputs": [
        {
          "output_type": "execute_result",
          "execution_count": 2,
          "data": {
            "text/plain": "                by  score        time                 timestamp  \\\n0         coldcode    NaN  1384617206 2013-11-16 15:53:26+00:00   \n1       hellbanner    NaN  1500697381 2017-07-22 04:23:01+00:00   \n2    SoftwareMaven    NaN  1312989569 2011-08-10 15:19:29+00:00   \n3  fitzwatermellow  102.0  1441221791 2015-09-02 19:23:11+00:00   \n4  instruction-ptr    NaN  1508341589 2017-10-18 15:46:29+00:00   \n\n                           title     type  \\\n0                                 comment   \n1                                 comment   \n2                                 comment   \n3  Chanakya: India's Machiavelli    story   \n4                                 comment   \n\n                                                 url  \\\n0                                                      \n1                                                      \n2                                                      \n3  http://nationalinterest.org/feature/chanakya-i...   \n4                                                      \n\n                                                text      parent deleted  \\\n0  Or not. Wait until Samsung decides finally to ...   6744648.0    None   \n1  Gotcha, I haven&#x27;t seen those spam comment...  14802743.0    None   \n2  Are you sure \"whomever\"? Isn't that the object...   2868550.0    None   \n3                                                            NaN    None   \n4  To quote a fellow TA below:<p>“I am currently ...  15500061.0    None   \n\n   dead  descendants        id ranking  \n0  None          NaN   6745128    None  \n1  None          NaN  14825398    None  \n2  None          NaN   2868620    None  \n3  None         25.0  10161389    None  \n4  None          NaN  15500113    None  ",
            "text/html": "<div>\n<style scoped>\n    .dataframe tbody tr th:only-of-type {\n        vertical-align: middle;\n    }\n\n    .dataframe tbody tr th {\n        vertical-align: top;\n    }\n\n    .dataframe thead th {\n        text-align: right;\n    }\n</style>\n<table border=\"1\" class=\"dataframe\">\n  <thead>\n    <tr style=\"text-align: right;\">\n      <th></th>\n      <th>by</th>\n      <th>score</th>\n      <th>time</th>\n      <th>timestamp</th>\n      <th>title</th>\n      <th>type</th>\n      <th>url</th>\n      <th>text</th>\n      <th>parent</th>\n      <th>deleted</th>\n      <th>dead</th>\n      <th>descendants</th>\n      <th>id</th>\n      <th>ranking</th>\n    </tr>\n  </thead>\n  <tbody>\n    <tr>\n      <th>0</th>\n      <td>coldcode</td>\n      <td>NaN</td>\n      <td>1384617206</td>\n      <td>2013-11-16 15:53:26+00:00</td>\n      <td></td>\n      <td>comment</td>\n      <td></td>\n      <td>Or not. Wait until Samsung decides finally to ...</td>\n      <td>6744648.0</td>\n      <td>None</td>\n      <td>None</td>\n      <td>NaN</td>\n      <td>6745128</td>\n      <td>None</td>\n    </tr>\n    <tr>\n      <th>1</th>\n      <td>hellbanner</td>\n      <td>NaN</td>\n      <td>1500697381</td>\n      <td>2017-07-22 04:23:01+00:00</td>\n      <td></td>\n      <td>comment</td>\n      <td></td>\n      <td>Gotcha, I haven&amp;#x27;t seen those spam comment...</td>\n      <td>14802743.0</td>\n      <td>None</td>\n      <td>None</td>\n      <td>NaN</td>\n      <td>14825398</td>\n      <td>None</td>\n    </tr>\n    <tr>\n      <th>2</th>\n      <td>SoftwareMaven</td>\n      <td>NaN</td>\n      <td>1312989569</td>\n      <td>2011-08-10 15:19:29+00:00</td>\n      <td></td>\n      <td>comment</td>\n      <td></td>\n      <td>Are you sure \"whomever\"? Isn't that the object...</td>\n      <td>2868550.0</td>\n      <td>None</td>\n      <td>None</td>\n      <td>NaN</td>\n      <td>2868620</td>\n      <td>None</td>\n    </tr>\n    <tr>\n      <th>3</th>\n      <td>fitzwatermellow</td>\n      <td>102.0</td>\n      <td>1441221791</td>\n      <td>2015-09-02 19:23:11+00:00</td>\n      <td>Chanakya: India's Machiavelli</td>\n      <td>story</td>\n      <td>http://nationalinterest.org/feature/chanakya-i...</td>\n      <td></td>\n      <td>NaN</td>\n      <td>None</td>\n      <td>None</td>\n      <td>25.0</td>\n      <td>10161389</td>\n      <td>None</td>\n    </tr>\n    <tr>\n      <th>4</th>\n      <td>instruction-ptr</td>\n      <td>NaN</td>\n      <td>1508341589</td>\n      <td>2017-10-18 15:46:29+00:00</td>\n      <td></td>\n      <td>comment</td>\n      <td></td>\n      <td>To quote a fellow TA below:&lt;p&gt;“I am currently ...</td>\n      <td>15500061.0</td>\n      <td>None</td>\n      <td>None</td>\n      <td>NaN</td>\n      <td>15500113</td>\n      <td>None</td>\n    </tr>\n  </tbody>\n</table>\n</div>"
          },
          "metadata": {}
        }
      ]
    },
    {
      "metadata": {
        "_cell_guid": "02d3c103-e83d-4b16-9478-95abb170c5dd",
        "_uuid": "05fc4c93fa6c043eb3b3c915d3ebccce252c9118"
      },
      "cell_type": "markdown",
      "source": "**Questions**\n1. How many unique stories are there in the full table?\n2. How many comments have been deleted? "
    },
    {
      "metadata": {
        "_uuid": "a46ae9f88ed8973c4d88ba5b6913b9368dc8b9f8",
        "_cell_guid": "0225b57b-a55a-45f1-93ad-c19e6803da11",
        "trusted": true
      },
      "cell_type": "code",
      "source": "query1 = '''SELECT COUNT(DISTINCT(id)) AS stories\n        FROM `bigquery-public-data.hacker_news.full`\n        '''\nresult1 = hacker_news.query_to_pandas_safe(query1)\nresult1",
      "execution_count": 3,
      "outputs": [
        {
          "output_type": "execute_result",
          "execution_count": 3,
          "data": {
            "text/plain": "    stories\n0  16609618",
            "text/html": "<div>\n<style scoped>\n    .dataframe tbody tr th:only-of-type {\n        vertical-align: middle;\n    }\n\n    .dataframe tbody tr th {\n        vertical-align: top;\n    }\n\n    .dataframe thead th {\n        text-align: right;\n    }\n</style>\n<table border=\"1\" class=\"dataframe\">\n  <thead>\n    <tr style=\"text-align: right;\">\n      <th></th>\n      <th>stories</th>\n    </tr>\n  </thead>\n  <tbody>\n    <tr>\n      <th>0</th>\n      <td>16609618</td>\n    </tr>\n  </tbody>\n</table>\n</div>"
          },
          "metadata": {}
        }
      ]
    },
    {
      "metadata": {
        "_uuid": "0a7df0b44837c6465394ac5dcdf115e3df39febc",
        "_cell_guid": "43366393-8014-47f5-a043-048e1f949926",
        "trusted": true
      },
      "cell_type": "code",
      "source": "query2 = '''SELECT type, COUNT(*) AS count\n        FROM `bigquery-public-data.hacker_news.full`\n        WHERE deleted = True\n        GROUP BY type\n        HAVING type = 'comment'\n'''\nresult2 = hacker_news.query_to_pandas_safe(query2)\nresult2",
      "execution_count": 4,
      "outputs": [
        {
          "output_type": "execute_result",
          "execution_count": 4,
          "data": {
            "text/plain": "      type   count\n0  comment  373916",
            "text/html": "<div>\n<style scoped>\n    .dataframe tbody tr th:only-of-type {\n        vertical-align: middle;\n    }\n\n    .dataframe tbody tr th {\n        vertical-align: top;\n    }\n\n    .dataframe thead th {\n        text-align: right;\n    }\n</style>\n<table border=\"1\" class=\"dataframe\">\n  <thead>\n    <tr style=\"text-align: right;\">\n      <th></th>\n      <th>type</th>\n      <th>count</th>\n    </tr>\n  </thead>\n  <tbody>\n    <tr>\n      <th>0</th>\n      <td>comment</td>\n      <td>373916</td>\n    </tr>\n  </tbody>\n</table>\n</div>"
          },
          "metadata": {}
        }
      ]
    },
    {
      "metadata": {
        "_cell_guid": "ce9f8166-1f80-4e44-8c6a-9f1b83fd3091",
        "_uuid": "06da5a635dcb492b9f919d83077a50dd8de88d96"
      },
      "cell_type": "markdown",
      "source": "There are 16,373,180 unique stories in the Hacker News database and 368,705 comments that have been deleted."
    }
  ],
  "metadata": {
    "language_info": {
      "name": "python",
      "version": "3.6.4",
      "mimetype": "text/x-python",
      "codemirror_mode": {
        "name": "ipython",
        "version": 3
      },
      "pygments_lexer": "ipython3",
      "nbconvert_exporter": "python",
      "file_extension": ".py"
    },
    "kernelspec": {
      "display_name": "Python 3",
      "language": "python",
      "name": "python3"
    }
  },
  "nbformat": 4,
  "nbformat_minor": 1
}
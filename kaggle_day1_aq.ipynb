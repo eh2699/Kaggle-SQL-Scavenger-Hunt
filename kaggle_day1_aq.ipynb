{
  "cells": [
    {
      "metadata": {
        "_uuid": "fb5181db6ed1a2b0349e194b136cce596869ad4c",
        "_cell_guid": "40390f44-38ac-49e5-851f-d57b4e5fc518",
        "trusted": false,
        "collapsed": true
      },
      "cell_type": "code",
      "source": "# setup\nimport bq_helper\n\nopen_aq = bq_helper.BigQueryHelper(active_project=\"bigquery-public-data\",\n                                   dataset_name=\"openaq\")\n# explore tables\nopen_aq.list_tables()",
      "execution_count": null,
      "outputs": []
    },
    {
      "metadata": {
        "_uuid": "92c5141afc08e612e88dce82e6b15a4c0847a6e0",
        "_cell_guid": "08b6cbb8-71ad-4b61-a97a-f24534cc11e3",
        "trusted": false,
        "collapsed": true
      },
      "cell_type": "code",
      "source": "open_aq.head('global_air_quality')",
      "execution_count": null,
      "outputs": []
    },
    {
      "metadata": {
        "_uuid": "409c509628c727b26ff69d4cf6fd02e92f051bcc",
        "_cell_guid": "fc3b440e-e77b-4753-ae0a-89a5a97aed0e"
      },
      "cell_type": "markdown",
      "source": "**Questions**\n1. Which countries use a unit other than ppm to measure any type of pollution?\n2. Which pollutants have a value of exactly 0?"
    },
    {
      "metadata": {
        "_uuid": "f8afe00f1c7ccc2c69dac115f94f7d5121e52aba",
        "_cell_guid": "4a58c2c1-cf92-4412-bb5b-6a64afd529cf",
        "trusted": false,
        "collapsed": true
      },
      "cell_type": "code",
      "source": "query1 = '''SELECT DISTINCT(country)\n        FROM `bigquery-public-data.openaq.global_air_quality`\n        WHERE unit != 'ppm'\n        '''\nresult1 = open_aq.query_to_pandas_safe(query1)\nresult1",
      "execution_count": null,
      "outputs": []
    },
    {
      "metadata": {
        "_uuid": "b063865326a2b70e5d854b1ed3716b9eb5b58294",
        "_cell_guid": "8c978692-b1c6-4622-8efb-e48970ce2368",
        "trusted": false,
        "collapsed": true
      },
      "cell_type": "code",
      "source": "query2 = '''SELECT DISTINCT(pollutant)\n        FROM `bigquery-public-data.openaq.global_air_quality`\n        WHERE value = 0\n        '''\nresult2 = open_aq.query_to_pandas_safe(query2)\nresult2",
      "execution_count": null,
      "outputs": []
    },
    {
      "metadata": {
        "_uuid": "c81f62c1f85f36a0566d5ab3874513854bc53c72",
        "_cell_guid": "e37c9159-097b-459e-a36f-569a1e50c50a",
        "collapsed": true,
        "trusted": false
      },
      "cell_type": "code",
      "source": "",
      "execution_count": null,
      "outputs": []
    }
  ],
  "metadata": {
    "kernelspec": {
      "display_name": "Python 3",
      "language": "python",
      "name": "python3"
    },
    "language_info": {
      "name": "python",
      "pygments_lexer": "ipython3",
      "file_extension": ".py",
      "version": "3.6.4",
      "codemirror_mode": {
        "name": "ipython",
        "version": 3
      },
      "mimetype": "text/x-python",
      "nbconvert_exporter": "python"
    }
  },
  "nbformat": 4,
  "nbformat_minor": 1
}
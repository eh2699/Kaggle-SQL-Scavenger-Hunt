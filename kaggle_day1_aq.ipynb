{
  "cells": [
    {
      "metadata": {
        "_uuid": "fb5181db6ed1a2b0349e194b136cce596869ad4c",
        "_cell_guid": "40390f44-38ac-49e5-851f-d57b4e5fc518",
        "trusted": true
      },
      "cell_type": "code",
      "source": "# setup\nimport bq_helper\n\nopen_aq = bq_helper.BigQueryHelper(active_project=\"bigquery-public-data\",\n                                   dataset_name=\"openaq\")\n# explore tables\nopen_aq.list_tables()",
      "execution_count": 3,
      "outputs": [
        {
          "output_type": "execute_result",
          "execution_count": 3,
          "data": {
            "text/plain": "['global_air_quality']"
          },
          "metadata": {}
        }
      ]
    },
    {
      "metadata": {
        "_uuid": "92c5141afc08e612e88dce82e6b15a4c0847a6e0",
        "_cell_guid": "08b6cbb8-71ad-4b61-a97a-f24534cc11e3",
        "trusted": true
      },
      "cell_type": "code",
      "source": "open_aq.head('global_air_quality')",
      "execution_count": 4,
      "outputs": [
        {
          "output_type": "execute_result",
          "execution_count": 4,
          "data": {
            "text/plain": "             location city country pollutant  value                 timestamp  \\\n0     Mobile_Cle Elum  037      US      pm25   0.00 2017-09-26 20:00:00+00:00   \n1  Mobile_WhiteSalmon  039      US      pm25   0.00 2017-09-26 20:00:00+00:00   \n2      Mobile_Newport  051      US      pm25   0.00 2017-09-21 18:00:00+00:00   \n3             FR20047  Ain      FR      pm10  49.63 2018-02-28 11:00:00+00:00   \n4             FR20047  Ain      FR       no2  11.33 2018-03-19 17:00:00+00:00   \n\n    unit source_name   latitude   longitude  averaged_over_in_hours  \n0  µg/m³      AirNow  47.197630 -120.958230                     1.0  \n1  µg/m³      AirNow  45.732414 -121.492330                     1.0  \n2  µg/m³      AirNow  48.186485 -117.049160                     1.0  \n3  µg/m³  EEA France  45.823223    4.953958                     1.0  \n4  µg/m³  EEA France  45.823223    4.953958                     1.0  ",
            "text/html": "<div>\n<style scoped>\n    .dataframe tbody tr th:only-of-type {\n        vertical-align: middle;\n    }\n\n    .dataframe tbody tr th {\n        vertical-align: top;\n    }\n\n    .dataframe thead th {\n        text-align: right;\n    }\n</style>\n<table border=\"1\" class=\"dataframe\">\n  <thead>\n    <tr style=\"text-align: right;\">\n      <th></th>\n      <th>location</th>\n      <th>city</th>\n      <th>country</th>\n      <th>pollutant</th>\n      <th>value</th>\n      <th>timestamp</th>\n      <th>unit</th>\n      <th>source_name</th>\n      <th>latitude</th>\n      <th>longitude</th>\n      <th>averaged_over_in_hours</th>\n    </tr>\n  </thead>\n  <tbody>\n    <tr>\n      <th>0</th>\n      <td>Mobile_Cle Elum</td>\n      <td>037</td>\n      <td>US</td>\n      <td>pm25</td>\n      <td>0.00</td>\n      <td>2017-09-26 20:00:00+00:00</td>\n      <td>µg/m³</td>\n      <td>AirNow</td>\n      <td>47.197630</td>\n      <td>-120.958230</td>\n      <td>1.0</td>\n    </tr>\n    <tr>\n      <th>1</th>\n      <td>Mobile_WhiteSalmon</td>\n      <td>039</td>\n      <td>US</td>\n      <td>pm25</td>\n      <td>0.00</td>\n      <td>2017-09-26 20:00:00+00:00</td>\n      <td>µg/m³</td>\n      <td>AirNow</td>\n      <td>45.732414</td>\n      <td>-121.492330</td>\n      <td>1.0</td>\n    </tr>\n    <tr>\n      <th>2</th>\n      <td>Mobile_Newport</td>\n      <td>051</td>\n      <td>US</td>\n      <td>pm25</td>\n      <td>0.00</td>\n      <td>2017-09-21 18:00:00+00:00</td>\n      <td>µg/m³</td>\n      <td>AirNow</td>\n      <td>48.186485</td>\n      <td>-117.049160</td>\n      <td>1.0</td>\n    </tr>\n    <tr>\n      <th>3</th>\n      <td>FR20047</td>\n      <td>Ain</td>\n      <td>FR</td>\n      <td>pm10</td>\n      <td>49.63</td>\n      <td>2018-02-28 11:00:00+00:00</td>\n      <td>µg/m³</td>\n      <td>EEA France</td>\n      <td>45.823223</td>\n      <td>4.953958</td>\n      <td>1.0</td>\n    </tr>\n    <tr>\n      <th>4</th>\n      <td>FR20047</td>\n      <td>Ain</td>\n      <td>FR</td>\n      <td>no2</td>\n      <td>11.33</td>\n      <td>2018-03-19 17:00:00+00:00</td>\n      <td>µg/m³</td>\n      <td>EEA France</td>\n      <td>45.823223</td>\n      <td>4.953958</td>\n      <td>1.0</td>\n    </tr>\n  </tbody>\n</table>\n</div>"
          },
          "metadata": {}
        }
      ]
    },
    {
      "metadata": {
        "_uuid": "409c509628c727b26ff69d4cf6fd02e92f051bcc",
        "_cell_guid": "fc3b440e-e77b-4753-ae0a-89a5a97aed0e"
      },
      "cell_type": "markdown",
      "source": "**Questions**\n1. Which countries use a unit other than ppm to measure any type of pollution?\n2. Which pollutants have a value of exactly 0?"
    },
    {
      "metadata": {
        "_uuid": "f8afe00f1c7ccc2c69dac115f94f7d5121e52aba",
        "_cell_guid": "4a58c2c1-cf92-4412-bb5b-6a64afd529cf",
        "trusted": true
      },
      "cell_type": "code",
      "source": "query1 = '''SELECT DISTINCT(country)\n        FROM `bigquery-public-data.openaq.global_air_quality`\n        WHERE unit != 'ppm'\n        '''\nresult1 = open_aq.query_to_pandas_safe(query1)\nresult1",
      "execution_count": 5,
      "outputs": [
        {
          "output_type": "execute_result",
          "execution_count": 5,
          "data": {
            "text/plain": "   country\n0       US\n1       FR\n2       TH\n3       CL\n4       IN\n5       NL\n6       GB\n7       CH\n8       PT\n9       ES\n10      BR\n11      TR\n12      PE\n13      NO\n14      HK\n15      LV\n16      IT\n17      CN\n18      GH\n19      PL\n20      SI\n21      BD\n22      MT\n23      VN\n24      BA\n25      BE\n26      TW\n27      LT\n28      DE\n29      CO\n..     ...\n34      BH\n35      PH\n36      RU\n37      CA\n38      AD\n39      IE\n40      AT\n41      ID\n42      HU\n43      LK\n44      UG\n45      FI\n46      IL\n47      LU\n48      HR\n49      XK\n50      AE\n51      NP\n52      SG\n53      CZ\n54      MX\n55      DK\n56      ET\n57      KW\n58      MN\n59      AR\n60      RS\n61      ZA\n62      SK\n63      GI\n\n[64 rows x 1 columns]",
            "text/html": "<div>\n<style scoped>\n    .dataframe tbody tr th:only-of-type {\n        vertical-align: middle;\n    }\n\n    .dataframe tbody tr th {\n        vertical-align: top;\n    }\n\n    .dataframe thead th {\n        text-align: right;\n    }\n</style>\n<table border=\"1\" class=\"dataframe\">\n  <thead>\n    <tr style=\"text-align: right;\">\n      <th></th>\n      <th>country</th>\n    </tr>\n  </thead>\n  <tbody>\n    <tr>\n      <th>0</th>\n      <td>US</td>\n    </tr>\n    <tr>\n      <th>1</th>\n      <td>FR</td>\n    </tr>\n    <tr>\n      <th>2</th>\n      <td>TH</td>\n    </tr>\n    <tr>\n      <th>3</th>\n      <td>CL</td>\n    </tr>\n    <tr>\n      <th>4</th>\n      <td>IN</td>\n    </tr>\n    <tr>\n      <th>5</th>\n      <td>NL</td>\n    </tr>\n    <tr>\n      <th>6</th>\n      <td>GB</td>\n    </tr>\n    <tr>\n      <th>7</th>\n      <td>CH</td>\n    </tr>\n    <tr>\n      <th>8</th>\n      <td>PT</td>\n    </tr>\n    <tr>\n      <th>9</th>\n      <td>ES</td>\n    </tr>\n    <tr>\n      <th>10</th>\n      <td>BR</td>\n    </tr>\n    <tr>\n      <th>11</th>\n      <td>TR</td>\n    </tr>\n    <tr>\n      <th>12</th>\n      <td>PE</td>\n    </tr>\n    <tr>\n      <th>13</th>\n      <td>NO</td>\n    </tr>\n    <tr>\n      <th>14</th>\n      <td>HK</td>\n    </tr>\n    <tr>\n      <th>15</th>\n      <td>LV</td>\n    </tr>\n    <tr>\n      <th>16</th>\n      <td>IT</td>\n    </tr>\n    <tr>\n      <th>17</th>\n      <td>CN</td>\n    </tr>\n    <tr>\n      <th>18</th>\n      <td>GH</td>\n    </tr>\n    <tr>\n      <th>19</th>\n      <td>PL</td>\n    </tr>\n    <tr>\n      <th>20</th>\n      <td>SI</td>\n    </tr>\n    <tr>\n      <th>21</th>\n      <td>BD</td>\n    </tr>\n    <tr>\n      <th>22</th>\n      <td>MT</td>\n    </tr>\n    <tr>\n      <th>23</th>\n      <td>VN</td>\n    </tr>\n    <tr>\n      <th>24</th>\n      <td>BA</td>\n    </tr>\n    <tr>\n      <th>25</th>\n      <td>BE</td>\n    </tr>\n    <tr>\n      <th>26</th>\n      <td>TW</td>\n    </tr>\n    <tr>\n      <th>27</th>\n      <td>LT</td>\n    </tr>\n    <tr>\n      <th>28</th>\n      <td>DE</td>\n    </tr>\n    <tr>\n      <th>29</th>\n      <td>CO</td>\n    </tr>\n    <tr>\n      <th>...</th>\n      <td>...</td>\n    </tr>\n    <tr>\n      <th>34</th>\n      <td>BH</td>\n    </tr>\n    <tr>\n      <th>35</th>\n      <td>PH</td>\n    </tr>\n    <tr>\n      <th>36</th>\n      <td>RU</td>\n    </tr>\n    <tr>\n      <th>37</th>\n      <td>CA</td>\n    </tr>\n    <tr>\n      <th>38</th>\n      <td>AD</td>\n    </tr>\n    <tr>\n      <th>39</th>\n      <td>IE</td>\n    </tr>\n    <tr>\n      <th>40</th>\n      <td>AT</td>\n    </tr>\n    <tr>\n      <th>41</th>\n      <td>ID</td>\n    </tr>\n    <tr>\n      <th>42</th>\n      <td>HU</td>\n    </tr>\n    <tr>\n      <th>43</th>\n      <td>LK</td>\n    </tr>\n    <tr>\n      <th>44</th>\n      <td>UG</td>\n    </tr>\n    <tr>\n      <th>45</th>\n      <td>FI</td>\n    </tr>\n    <tr>\n      <th>46</th>\n      <td>IL</td>\n    </tr>\n    <tr>\n      <th>47</th>\n      <td>LU</td>\n    </tr>\n    <tr>\n      <th>48</th>\n      <td>HR</td>\n    </tr>\n    <tr>\n      <th>49</th>\n      <td>XK</td>\n    </tr>\n    <tr>\n      <th>50</th>\n      <td>AE</td>\n    </tr>\n    <tr>\n      <th>51</th>\n      <td>NP</td>\n    </tr>\n    <tr>\n      <th>52</th>\n      <td>SG</td>\n    </tr>\n    <tr>\n      <th>53</th>\n      <td>CZ</td>\n    </tr>\n    <tr>\n      <th>54</th>\n      <td>MX</td>\n    </tr>\n    <tr>\n      <th>55</th>\n      <td>DK</td>\n    </tr>\n    <tr>\n      <th>56</th>\n      <td>ET</td>\n    </tr>\n    <tr>\n      <th>57</th>\n      <td>KW</td>\n    </tr>\n    <tr>\n      <th>58</th>\n      <td>MN</td>\n    </tr>\n    <tr>\n      <th>59</th>\n      <td>AR</td>\n    </tr>\n    <tr>\n      <th>60</th>\n      <td>RS</td>\n    </tr>\n    <tr>\n      <th>61</th>\n      <td>ZA</td>\n    </tr>\n    <tr>\n      <th>62</th>\n      <td>SK</td>\n    </tr>\n    <tr>\n      <th>63</th>\n      <td>GI</td>\n    </tr>\n  </tbody>\n</table>\n<p>64 rows × 1 columns</p>\n</div>"
          },
          "metadata": {}
        }
      ]
    },
    {
      "metadata": {
        "_uuid": "b063865326a2b70e5d854b1ed3716b9eb5b58294",
        "_cell_guid": "8c978692-b1c6-4622-8efb-e48970ce2368",
        "trusted": true
      },
      "cell_type": "code",
      "source": "query2 = '''SELECT DISTINCT(pollutant)\n        FROM `bigquery-public-data.openaq.global_air_quality`\n        WHERE value = 0\n        '''\nresult2 = open_aq.query_to_pandas_safe(query2)\nresult2",
      "execution_count": 6,
      "outputs": [
        {
          "output_type": "execute_result",
          "execution_count": 6,
          "data": {
            "text/plain": "  pollutant\n0      pm25\n1       so2\n2        o3\n3       no2\n4      pm10\n5        co\n6        bc",
            "text/html": "<div>\n<style scoped>\n    .dataframe tbody tr th:only-of-type {\n        vertical-align: middle;\n    }\n\n    .dataframe tbody tr th {\n        vertical-align: top;\n    }\n\n    .dataframe thead th {\n        text-align: right;\n    }\n</style>\n<table border=\"1\" class=\"dataframe\">\n  <thead>\n    <tr style=\"text-align: right;\">\n      <th></th>\n      <th>pollutant</th>\n    </tr>\n  </thead>\n  <tbody>\n    <tr>\n      <th>0</th>\n      <td>pm25</td>\n    </tr>\n    <tr>\n      <th>1</th>\n      <td>so2</td>\n    </tr>\n    <tr>\n      <th>2</th>\n      <td>o3</td>\n    </tr>\n    <tr>\n      <th>3</th>\n      <td>no2</td>\n    </tr>\n    <tr>\n      <th>4</th>\n      <td>pm10</td>\n    </tr>\n    <tr>\n      <th>5</th>\n      <td>co</td>\n    </tr>\n    <tr>\n      <th>6</th>\n      <td>bc</td>\n    </tr>\n  </tbody>\n</table>\n</div>"
          },
          "metadata": {}
        }
      ]
    }
  ],
  "metadata": {
    "kernelspec": {
      "display_name": "Python 3",
      "language": "python",
      "name": "python3"
    },
    "language_info": {
      "name": "python",
      "version": "3.6.4",
      "mimetype": "text/x-python",
      "codemirror_mode": {
        "name": "ipython",
        "version": 3
      },
      "pygments_lexer": "ipython3",
      "nbconvert_exporter": "python",
      "file_extension": ".py"
    }
  },
  "nbformat": 4,
  "nbformat_minor": 1
}